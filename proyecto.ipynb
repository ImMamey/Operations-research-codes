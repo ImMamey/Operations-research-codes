{
 "cells": [
  {
   "cell_type": "markdown",
   "source": [
    "# Importaciones\n",
    "Primero tenemos que importar las librerias a usar.\n",
    "- Numpy : libreria numerica de matrices.\n",
    "- matplotlib: libreria para graficaion\n",
    "- Pandas: libreria para manejar tablas\n",
    "- Tabulate: extension de tablas"
   ],
   "metadata": {
    "collapsed": false
   },
   "id": "5c8d26789f6c59bf"
  },
  {
   "cell_type": "code",
   "execution_count": 5,
   "outputs": [],
   "source": [
    "import pandas as pn\n",
    "import numpy as np\n",
    "import matplotlib as plt\n",
    "import tabulate as tabl\n",
    "from typing import Any"
   ],
   "metadata": {
    "collapsed": false,
    "ExecuteTime": {
     "end_time": "2023-11-10T05:02:08.853824700Z",
     "start_time": "2023-11-10T05:02:08.831426500Z"
    }
   },
   "id": "d73c57e84c053304"
  },
  {
   "cell_type": "markdown",
   "source": [
    "# Parte 1.\n",
    "Para implementar el método simplex tenemos que introducir los \"elementos principales\":\n",
    "\n",
    "<figure>\n",
    "    <br>\n",
    "    <center> <img src=\"./images/elementos.png\"   style=\"width:500px;height:280px;\" ></center>\n",
    "</figure>\n",
    "\n",
    "En este codigo dividiermos todo en 3 elementos:\n",
    "1. $\\LARGE a\\_i$: Va a ser la matriz que contiene todos los coeficientes de las restricciones, de la forma $\\large [A,I]$\n",
    "2. $\\LARGE b$ es el vector con los valores de las soluciones de las restricciones.\n",
    "3. $\\LARGE c$ es el vector con los coeficientes de las variables en la F.O.\n"
   ],
   "metadata": {
    "collapsed": false
   },
   "id": "b916ab1389598d50"
  },
  {
   "cell_type": "code",
   "execution_count": 6,
   "outputs": [],
   "source": [
    "a_i : np.ndarray[np.int_] = np.array([[-2,1,1,0,0],\n",
    "                                      [-1,2,0,1,0],\n",
    "                                      [1,0,0,0,1]])\n",
    "b  : np.ndarray[np.int_] = np.array([2,7,3])\n",
    "c  : np.ndarray[np.int_] = np.array([-1,-2,0,0,0])"
   ],
   "metadata": {
    "collapsed": false,
    "ExecuteTime": {
     "end_time": "2023-11-10T05:15:00.706624200Z",
     "start_time": "2023-11-10T05:15:00.695892200Z"
    }
   },
   "id": "3a0d2700f63445c1"
  },
  {
   "cell_type": "markdown",
   "source": [
    "# 2. Ahora debemos de implementar simplex."
   ],
   "metadata": {
    "collapsed": false
   },
   "id": "9a27f07afebb0f9f"
  },
  {
   "cell_type": "code",
   "execution_count": 20,
   "outputs": [],
   "source": [
    "# TODO: Actualmente el código lo mantengo con type: np.int_ para reducir errores. Una vez listo hay que cambiar el tipo para permitir float\n",
    "def Simplex(A: np.ndarray[np.int_],b: np.ndarray[np.int_],c: np.ndarray[np.int_])-> Any:\n",
    "    \"\"\"\n",
    "    Le pasamos los vectores con los datos del ejercicio. Utiliza un while loop para iterar hasta que se encuentre la solucion optima\n",
    "    :param A: Matriz con coeficientes de las restricciones :type A: np.ndarrya[np.int_]\n",
    "    :param b: Matriz con los valores de las soluciones de las restriciones :type  b: np.ndarrya[np.int_]: \n",
    "    :param c: Matriz con los coeficientes de la F.O. :type c: np.ndarrya[np.int_]\n",
    "    :return: \n",
    "    \"\"\"\n",
    "    numero_restricciones = A.shape[0] # numero de condiciones\n",
    "    numero_variables = A.shape[1]-numero_restricciones # numero de variables\n",
    "    \n",
    "    # Tenemos un problema ahora, las variables del array C esta escrito de la forma X_0, X_1, X_2, por lo tanto esta linea de codigo guardara los indices:\n",
    "    indice_c : list[int] =[i for i in range(0,len(c))]\n",
    "    \n",
    "    # Coeficientes de las variables basicas\n",
    "    coef_Vbasicas: np.ndarray[np.int_] = np.array(c[numero_variables:])\n",
    "    # Coeficientes variables no básicas\n",
    "    coef_VNbasicas: np.ndarray[np.int_] = np.array(c[:numero_restricciones])\n",
    "    \n",
    "    print(f\"La cantidad de condiciones son: {numero_restricciones}\")\n",
    "    print(f\"La cantidad de variables son: {numero_variables}\\n\")\n",
    "    print(f\"Los coeficientes de las variables basicas son: {coef_Vbasicas} \\n\")\n",
    "    print(f\"Los coeficientes de als variables NO basicas son: {coef_VNbasicas}\\n\")\n",
    "    \n",
    "    while True:\n",
    "        # TODO: main loop aqui\n",
    "        break\n",
    "    pass"
   ],
   "metadata": {
    "collapsed": false,
    "ExecuteTime": {
     "end_time": "2023-11-10T19:29:05.488648900Z",
     "start_time": "2023-11-10T19:29:05.481800300Z"
    }
   },
   "id": "f1b94b3f3d0165e"
  },
  {
   "cell_type": "code",
   "execution_count": 21,
   "outputs": [
    {
     "name": "stdout",
     "output_type": "stream",
     "text": [
      "La cantidad de condiciones son: 3\n",
      "La cantidad de variables son: 2\n",
      "\n",
      "Los coeficientes de las variables basicas son: [0 0 0] \n",
      "\n",
      "Los coeficientes de als variables NO basicas son: [-1 -2  0]\n"
     ]
    }
   ],
   "source": [
    "Simplex(a_i,b,c)"
   ],
   "metadata": {
    "collapsed": false,
    "ExecuteTime": {
     "end_time": "2023-11-10T19:29:08.393175900Z",
     "start_time": "2023-11-10T19:29:08.390164400Z"
    }
   },
   "id": "5daa0ea1e629ffdf"
  },
  {
   "cell_type": "code",
   "execution_count": null,
   "outputs": [],
   "source": [
    "Agolra"
   ],
   "metadata": {
    "collapsed": false
   },
   "id": "759cca7ab38a81b3"
  }
 ],
 "metadata": {
  "kernelspec": {
   "display_name": "Python 3",
   "language": "python",
   "name": "python3"
  },
  "language_info": {
   "codemirror_mode": {
    "name": "ipython",
    "version": 2
   },
   "file_extension": ".py",
   "mimetype": "text/x-python",
   "name": "python",
   "nbconvert_exporter": "python",
   "pygments_lexer": "ipython2",
   "version": "2.7.6"
  }
 },
 "nbformat": 4,
 "nbformat_minor": 5
}
