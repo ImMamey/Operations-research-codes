{
 "cells": [
  {
   "cell_type": "markdown",
   "source": [
    "# Importaciones\n",
    "Primero tenemos que importar las librerias a usar.\n",
    "- Numpy : libreria numerica de matrices.\n",
    "- matplotlib: libreria para graficaion\n",
    "- Pandas: libreria para manejar tablas\n",
    "- Tabulate: extension de tablas"
   ],
   "metadata": {
    "collapsed": false
   },
   "id": "5c8d26789f6c59bf"
  },
  {
   "cell_type": "code",
   "execution_count": 7,
   "outputs": [],
   "source": [
    "import pandas as pn\n",
    "import numpy as np\n",
    "import matplotlib as plt\n",
    "import tabulate as tabl\n",
    "from typing import Any"
   ],
   "metadata": {
    "collapsed": false,
    "ExecuteTime": {
     "end_time": "2023-11-11T18:42:13.275314700Z",
     "start_time": "2023-11-11T18:42:13.236240600Z"
    }
   },
   "id": "d73c57e84c053304"
  },
  {
   "cell_type": "markdown",
   "source": [
    "# Parte 1.\n",
    "Para implementar el método simplex tenemos que introducir los \"elementos principales\":\n",
    "\n",
    "<figure>\n",
    "    <br>\n",
    "    <center> <img src=\"./images/elementos.png\"   style=\"width:500px;height:280px;\" ></center>\n",
    "</figure>\n",
    "\n",
    "En este codigo dividiermos todo en 3 elementos:\n",
    "1. $\\LARGE a\\_i$: Va a ser la matriz que contiene todos los coeficientes de las restricciones, de la forma $\\large [A,I]$\n",
    "2. $\\LARGE b$ es el vector con los valores de las soluciones de las restricciones.\n",
    "3. $\\LARGE c$ es el vector con los coeficientes de las variables en la F.O.\n"
   ],
   "metadata": {
    "collapsed": false
   },
   "id": "b916ab1389598d50"
  },
  {
   "cell_type": "code",
   "execution_count": 8,
   "outputs": [],
   "source": [
    "a_i : np.ndarray[np.int_] = np.array([[-2,1,1,0,0],\n",
    "                                      [-1,2,0,1,0],\n",
    "                                      [1,0,0,0,1]])\n",
    "b  : np.ndarray[np.int_] = np.array([2,7,3])\n",
    "c  : np.ndarray[np.int_] = np.array([-1,-2,0,0,0])"
   ],
   "metadata": {
    "collapsed": false,
    "ExecuteTime": {
     "end_time": "2023-11-11T18:42:16.741831600Z",
     "start_time": "2023-11-11T18:42:16.732335600Z"
    }
   },
   "id": "3a0d2700f63445c1"
  },
  {
   "cell_type": "markdown",
   "source": [
    "# 2. Ahora debemos de implementar simplex."
   ],
   "metadata": {
    "collapsed": false
   },
   "id": "9a27f07afebb0f9f"
  },
  {
   "cell_type": "code",
   "execution_count": 9,
   "outputs": [],
   "source": [
    "# TODO: Actualmente el código lo mantengo con type: np.int_ para reducir errores. Una vez listo hay que cambiar el tipo para permitir float\n",
    "def Simplex(\n",
    "    A: np.ndarray[np.int_], b: np.ndarray[np.int_], c: np.ndarray[np.int_]\n",
    ") -> Any:\n",
    "    \"\"\"\n",
    "    Le pasamos los vectores con los datos del ejercicio. Utiliza un while loop para iterar hasta que se encuentre la solución óptima\n",
    "    :param A: Matriz con coeficientes de las restricciones :type A: np.ndarrya[np.int_]\n",
    "    :param b: Matriz con los valores de las soluciones de las restriciones :type  b: np.ndarrya[np.int_]:\n",
    "    :param c: Matriz con los coeficientes de la F.O. :type c: np.ndarrya[np.int_]\n",
    "    :return:\n",
    "    \"\"\"\n",
    "\n",
    "    tamano_basico = A.shape[0]  # number of constraints, m\n",
    "    tamano_noBasico = A.shape[1] - tamano_basico  # n-m, number of variables\n",
    "\n",
    "    # Tenemos un problema ahora, las variables del array C esta escrito de la forma X_0, X_1, X_2, por lo tanto esta linea de código guardará los índices:\n",
    "    indice_c: list[int] = [i for i in range(0, len(c))]\n",
    "\n",
    "    # Coeficientes de las variables basicas y no báscias:\n",
    "    coef_vBasicas: np.ndarray[np.int_] = np.array(c[tamano_noBasico:])\n",
    "    coef_vNBasicas: np.ndarray[np.int_] = np.array(c[:tamano_noBasico])\n",
    "\n",
    "    # Corrida en frio de prueba para revisar que el programa plantee bien el problema. Comentar si no es necesario.\n",
    "    print(f\"La cantidad de condiciones son: {tamano_basico}\")\n",
    "    print(f\"La cantidad de variables son: {tamano_noBasico}\\n\")\n",
    "    print(f\"Los coeficientes de las variables basicas son: {coef_vBasicas} \\n\")\n",
    "    print(f\"Los coeficientes de als variables NO basicas son: {coef_vNBasicas}\\n\")\n",
    "\n",
    "    while True:\n",
    "        # Mantenemos los índices de las variables básicas y no-básicas aquí\n",
    "        indice_actual_basica = indice_c[tamano_noBasico:]\n",
    "        indice_actual_noBasica = indice_c[:tamano_noBasico]\n",
    "\n",
    "        \"Matriz Básica:\"\n",
    "        B = A[:, indice_actual_basica]\n",
    "        B_inversa = np.linalg.inv(B)\n",
    "\n",
    "        \"Matriz de variables no básicas:\"\n",
    "        N = A[:, indice_actual_noBasica]\n",
    "\n",
    "        \"bHat son los valores de las variables basicas, con su resultao b\"\n",
    "        bHat = B_inversa @ b\n",
    "        yT = coef_vBasicas @ B_inversa\n",
    "\n",
    "        \"La siguiente linea de codigo busca optimizar, determina cual variable va a entrar\"\n",
    "        cnHat = coef_vNBasicas - (yT @ N)\n",
    "\n",
    "        # Encuentra el índice cn el valor minimo de cnHat, esta es la variable que va a entrar\n",
    "        cn_indice_minimo = np.argmin(cnHat)\n",
    "\n",
    "        \"\"\"La siguiente linea revisa si se encontró el mino, si es asi. Rompe el ciclo While True:\n",
    "        \n",
    "        Utiliza indice_actual_basica para obtener los indices de las variables+indices en bHat. \n",
    "        Los valores en bHat son la solución final para cada una de las variables correspondientes.\n",
    "        \"\"\"\n",
    "        if all(i >= 0 for i in cnHat):\n",
    "            return (\n",
    "                coef_vBasicas,\n",
    "                indice_actual_basica,\n",
    "                coef_vNBasicas,\n",
    "                indice_actual_noBasica,\n",
    "                bHat,\n",
    "                cnHat,\n",
    "            )\n",
    "\n",
    "        # Este es el índice para la columna de coeficientes dado su respectiva variable\n",
    "        indice = indice_c[cn_indice_minimo]\n",
    "        Ahat = B_inversa @ A[:, indice]\n",
    "\n",
    "        # El siguiente código itera a travez de Ahat y bHat, y va a agarrar los valores mínimos siempre y cuando sean mayores a 0.\n",
    "        # El valor más pequeño mayor a cero, será la variable que se transformara en no-básica\n",
    "        ratios = []\n",
    "        for _ in range(0, len(bHat)):\n",
    "            Aval = Ahat[_]\n",
    "            Bval = bHat[_]\n",
    "\n",
    "            # Este filtro es para no ver a los \"ratio\" con valor menor o igual a cero, se anexará para mantener el índice.\n",
    "            if Aval <= 0:\n",
    "                ratios.append(10000000)\n",
    "                continue\n",
    "            ratios.append(Bval / Aval)\n",
    "        # Se obtiene el valor minio:\n",
    "        ratio_menor_indice = np.argmin(ratios)\n",
    "\n",
    "        # Intercambiamos las variables básicas y no básicas usando los índices\n",
    "        coef_vNBasicas[cn_indice_minimo], coef_vBasicas[ratio_menor_indice] = (\n",
    "            coef_vBasicas[ratio_menor_indice],\n",
    "            coef_vNBasicas[cn_indice_minimo],\n",
    "        )\n",
    "        # Intercambiamos el indice global, y el trackeador de índice:\n",
    "        indice_c[cn_indice_minimo], indice_c[ratio_menor_indice + tamano_noBasico] = (\n",
    "            indice_c[ratio_menor_indice + tamano_noBasico],\n",
    "            indice_c[cn_indice_minimo],\n",
    "        )\n",
    "        # Se repite el loop.\n"
   ],
   "metadata": {
    "collapsed": false,
    "ExecuteTime": {
     "end_time": "2023-11-11T18:42:19.502331300Z",
     "start_time": "2023-11-11T18:42:19.490593800Z"
    }
   },
   "id": "f1b94b3f3d0165e"
  },
  {
   "cell_type": "code",
   "execution_count": 10,
   "outputs": [
    {
     "name": "stdout",
     "output_type": "stream",
     "text": [
      "La cantidad de condiciones son: 3\n",
      "La cantidad de variables son: 2\n",
      "\n",
      "Los coeficientes de las variables basicas son: [0 0 0] \n",
      "\n",
      "Los coeficientes de als variables NO basicas son: [-1 -2]\n"
     ]
    },
    {
     "data": {
      "text/plain": "(array([-2, -1,  0]),\n [1, 0, 2],\n array([0, 0]),\n [3, 4],\n array([5., 3., 3.]),\n array([1., 2.]))"
     },
     "execution_count": 10,
     "metadata": {},
     "output_type": "execute_result"
    }
   ],
   "source": [
    "Simplex(a_i,b,c)"
   ],
   "metadata": {
    "collapsed": false,
    "ExecuteTime": {
     "end_time": "2023-11-11T18:42:21.414208300Z",
     "start_time": "2023-11-11T18:42:21.400320800Z"
    }
   },
   "id": "5daa0ea1e629ffdf"
  },
  {
   "cell_type": "code",
   "execution_count": null,
   "outputs": [],
   "source": [],
   "metadata": {
    "collapsed": false
   },
   "id": "759cca7ab38a81b3"
  }
 ],
 "metadata": {
  "kernelspec": {
   "display_name": "Python 3",
   "language": "python",
   "name": "python3"
  },
  "language_info": {
   "codemirror_mode": {
    "name": "ipython",
    "version": 2
   },
   "file_extension": ".py",
   "mimetype": "text/x-python",
   "name": "python",
   "nbconvert_exporter": "python",
   "pygments_lexer": "ipython2",
   "version": "2.7.6"
  }
 },
 "nbformat": 4,
 "nbformat_minor": 5
}
